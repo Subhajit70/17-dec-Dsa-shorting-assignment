{
 "cells": [
  {
   "cell_type": "code",
   "execution_count": 1,
   "id": "6e2c2074-a223-4a47-b353-f905ffe0a064",
   "metadata": {},
   "outputs": [
    {
     "name": "stdout",
     "output_type": "stream",
     "text": [
      "2\n"
     ]
    }
   ],
   "source": [
    "#1.Given an array of n numbers, give an algorithm which gives the element appearing maximum number of times?\n",
    "\n",
    "def most_frequent_element(arr):\n",
    "  # create an empty hash table\n",
    "  freq = {}\n",
    "  # loop through the array elements\n",
    "  for x in arr:\n",
    "    # if x is already in the hash table, increment its frequency\n",
    "    if x in freq:\n",
    "      freq[x] += 1\n",
    "    # otherwise, set its frequency to 1\n",
    "    else:\n",
    "      freq[x] = 1\n",
    "  # initialize the most frequent element and its frequency\n",
    "  most_freq = None\n",
    "  max_freq = 0\n",
    "  # loop through the hash table\n",
    "  for x in freq:\n",
    "    # if x has a higher frequency than the current most frequent element, update them\n",
    "    if freq[x] > max_freq:\n",
    "      most_freq = x\n",
    "      max_freq = freq[x]\n",
    "  # return the most frequent element\n",
    "  return most_freq\n",
    "\n",
    "# example array\n",
    "arr = [1, 2, 3, 2, 4, 2, 5, 2, 6]\n",
    "# print the most frequent element\n",
    "print(most_frequent_element(arr))\n",
    "\n"
   ]
  },
  {
   "cell_type": "code",
   "execution_count": 2,
   "id": "5344e4d4-d03a-4db5-ab51-39f342b55494",
   "metadata": {},
   "outputs": [
    {
     "name": "stdout",
     "output_type": "stream",
     "text": [
      "5.0\n"
     ]
    }
   ],
   "source": [
    "#Problem 2 : We are given a list of n-1 integers and these integers are in the range of 1 to n . There are no duplicates in the list. One of the integers is missing in the list. Give an algorithm to find that element Ex: [1,2,4,6,3,7,8] 5 is the missing num.\n",
    "\n",
    "\n",
    "def find_missing_element(lst, n):\n",
    "    # Calculate the sum of the first n natural numbers\n",
    "    sum_of_n = n * (n + 1) / 2\n",
    "\n",
    "    # Initialize the sum of the list elements\n",
    "    sum_of_lst = 0\n",
    "\n",
    "    # Loop through the list and add each element to the sum\n",
    "    for num in lst:\n",
    "        sum_of_lst += num\n",
    "\n",
    "    # Return the difference between the two sums\n",
    "    return sum_of_n - sum_of_lst\n",
    "\n",
    "# Test the function with an example\n",
    "lst = [1, 2, 4, 6, 3, 7, 8]\n",
    "n = 8\n",
    "print(find_missing_element(lst, n)) # Output: 5.0\n",
    "\n",
    "\n"
   ]
  },
  {
   "cell_type": "code",
   "execution_count": 3,
   "id": "cfac2bda-0815-4589-9b95-d2cbf356f0ab",
   "metadata": {},
   "outputs": [
    {
     "name": "stdout",
     "output_type": "stream",
     "text": [
      "3\n"
     ]
    }
   ],
   "source": [
    "#3 : Given an array of n positive numbers. All numbers occurs even number of times except 1 which occurs odd number of times. Find that number in O(n) time and O(1) space. Ex: [1,2,3,2,3,1,3]. 3 is repeats odd times.\n",
    "\n",
    "\n",
    "def find_odd_occurrence(arr):\n",
    "  result = 0\n",
    "  for num in arr:\n",
    "    result = result ^ num\n",
    "  return result\n",
    "\n",
    "arr = [1, 2, 3, 2, 3, 1, 3]\n",
    "print(find_odd_occurrence(arr))\n",
    "\n",
    "\n"
   ]
  },
  {
   "cell_type": "code",
   "execution_count": 4,
   "id": "34454a59-f22d-4571-a075-56cb7148669f",
   "metadata": {},
   "outputs": [
    {
     "name": "stdout",
     "output_type": "stream",
     "text": [
      "The pair of elements that sum to 58 are 42 and 16\n"
     ]
    }
   ],
   "source": [
    "#4 : Given an array of n elements. Find two elements in the array such that their sum is equal to given element K.\n",
    "\n",
    "\n",
    "def find_pair(arr, n, k):\n",
    "  # create a hash table to store the elements and their indices\n",
    "  hash_table = {}\n",
    "  for i in range(n):\n",
    "    # check if k - arr[i] exists in the hash table\n",
    "    if k - arr[i] in hash_table:\n",
    "      # return the pair of indices\n",
    "      return (hash_table[k - arr[i]], i)\n",
    "    # store the element and its index in the hash table\n",
    "    hash_table[arr[i]] = i\n",
    "  # return -1 if no pair is found\n",
    "  return -1\n",
    "\n",
    "# test the code\n",
    "arr = [42, 23, 15, 16, 8, 4]\n",
    "n = len(arr)\n",
    "k = 58\n",
    "result = find_pair(arr, n, k)\n",
    "if result != -1:\n",
    "  print(\"The pair of elements that sum to\", k, \"are\", arr[result[0]], \"and\", arr[result[1]])\n",
    "else:\n",
    "  print(\"No pair of elements found that sum to\", k)\n",
    "\n"
   ]
  },
  {
   "cell_type": "code",
   "execution_count": 5,
   "id": "29e9f8b1-b348-41aa-944f-da80663dad98",
   "metadata": {},
   "outputs": [
    {
     "name": "stdout",
     "output_type": "stream",
     "text": [
      "(-80, 85)\n"
     ]
    }
   ],
   "source": [
    "#5 : Given an array of both positive and negative numbers, find two numbers such that their sum is closest to 0. Ex: [ 1 ,60 ,-10, 70, -80,85]. Ans : -80,85.\n",
    "\n",
    "# Function to find the pair of elements\n",
    "# whose sum is closest to zero\n",
    "def closest_to_zero(arr):\n",
    "  # Sort the array\n",
    "  arr.sort()\n",
    "  # Initialize left and right pointers\n",
    "  l = 0\n",
    "  r = len(arr) - 1\n",
    "  # Initialize minimum sum and result pair\n",
    "  min_sum = float(\"inf\")\n",
    "  result = (0, 0)\n",
    "  # Loop until the pointers meet\n",
    "  while l < r:\n",
    "    # Calculate the current sum\n",
    "    sum = arr[l] + arr[r]\n",
    "    # Update the minimum sum and result pair\n",
    "    # if the current sum is closer to zero\n",
    "    if abs(sum) < abs(min_sum):\n",
    "      min_sum = sum\n",
    "      result = (arr[l], arr[r])\n",
    "    # Move the pointers based on the sign of the sum\n",
    "    if sum < 0:\n",
    "      l += 1\n",
    "    else:\n",
    "      r -= 1\n",
    "  # Return the result pair\n",
    "  return result\n",
    "\n",
    "# Test the function\n",
    "arr = [1, 60, -10, 70, -80, 85]\n",
    "print(closest_to_zero(arr))\n"
   ]
  },
  {
   "cell_type": "code",
   "execution_count": 6,
   "id": "ecc567a3-395a-488d-93c2-e99fcfd009d4",
   "metadata": {},
   "outputs": [
    {
     "name": "stdout",
     "output_type": "stream",
     "text": [
      "The triplet is: (1, 5, 9)\n"
     ]
    }
   ],
   "source": [
    "#6 : Given an array of n elements . Find three elements such that their sum is equal to the given number.\n",
    "# A function to find three elements whose sum is equal to a given number\n",
    "def find_triplet(arr, n, target):\n",
    "  # Sort the array in ascending order\n",
    "  arr.sort()\n",
    "  # Loop through the array from left to right\n",
    "  for i in range(n - 2):\n",
    "    # Initialize two pointers at the current element's right and the end of the array\n",
    "    left = i + 1\n",
    "    right = n - 1\n",
    "    # Loop until the pointers meet\n",
    "    while left < right:\n",
    "      # Calculate the current sum of the triplet\n",
    "      curr_sum = arr[i] + arr[left] + arr[right]\n",
    "      # If the current sum is equal to the target, return the triplet\n",
    "      if curr_sum == target:\n",
    "        return (arr[i], arr[left], arr[right])\n",
    "      # If the current sum is less than the target, move the left pointer to the right\n",
    "      elif curr_sum < target:\n",
    "        left += 1\n",
    "      # If the current sum is greater than the target, move the right pointer to the left\n",
    "      else:\n",
    "        right -= 1\n",
    "  # If no triplet is found, return None\n",
    "  return None\n",
    "\n",
    "# Example\n",
    "arr = [1, 2, 3, 4, 5, 6, 7, 8, 9]\n",
    "n = len(arr)\n",
    "target = 15\n",
    "triplet = find_triplet(arr, n, target)\n",
    "if triplet:\n",
    "  print(\"The triplet is:\", triplet)\n",
    "else:\n",
    "  print(\"No triplet found\")\n",
    "\n",
    "\n"
   ]
  },
  {
   "cell_type": "code",
   "execution_count": 7,
   "id": "6162276a-b535-467a-a186-c485a36b801b",
   "metadata": {},
   "outputs": [
    {
     "name": "stdout",
     "output_type": "stream",
     "text": [
      "No triplet found\n"
     ]
    }
   ],
   "source": [
    "#7 : Given an array of n elements . Find three elements i, j, k in the array such that i * i + j * j = k*k.\n",
    "\n",
    "# Function to find the triplet\n",
    "def find_triplet(arr, n):\n",
    "  # Sort the array\n",
    "  arr.sort()\n",
    "  # Loop over the array\n",
    "  for i in range(n - 2):\n",
    "    # Fix the first element\n",
    "    a = arr[i]\n",
    "    # Initialize two pointers\n",
    "    j = i + 1 # Second element\n",
    "    k = n - 1 # Third element\n",
    "    # Loop until the pointers meet\n",
    "    while j < k:\n",
    "      # Calculate the sum of squares\n",
    "      sum = a * a + arr[j] * arr[j]\n",
    "      # Check if the sum is equal to the square of the third element\n",
    "      if sum == arr[k] * arr[k]:\n",
    "        # Found the triplet\n",
    "        return (a, arr[j], arr[k])\n",
    "      # If the sum is smaller, increment the second pointer\n",
    "      elif sum < arr[k] * arr[k]:\n",
    "        j += 1\n",
    "      # If the sum is larger, decrement the third pointer\n",
    "      else:\n",
    "        k -= 1\n",
    "  # No triplet found\n",
    "  return None\n",
    "\n",
    "# Driver code\n",
    "arr = [3, 1, 4, 6, 5]\n",
    "n = len(arr)\n",
    "triplet = find_triplet(arr, n)\n",
    "if triplet:\n",
    "  print(\"The triplet is\", triplet)\n",
    "else:\n",
    "  print(\"No triplet found\")\n",
    "\n"
   ]
  },
  {
   "cell_type": "code",
   "execution_count": 8,
   "id": "4cd87a12-dd5e-4817-8295-cc5a0ebc4879",
   "metadata": {},
   "outputs": [],
   "source": [
    "#8 : An element is a majority if it appears more than n/2 times. Give an algorithm takes an array of n element as argument and identifies a majority (if it exists).\n",
    "def find_majority(arr):\n",
    "  # Initialize candidate and counter\n",
    "  candidate = None\n",
    "  counter = 0\n",
    "\n",
    "  # Iterate over the array\n",
    "  for element in arr:\n",
    "    # If counter is zero, update candidate\n",
    "    if counter == 0:\n",
    "      candidate = element\n",
    "      counter = 1\n",
    "    # If element is same as candidate, increment counter\n",
    "    elif element == candidate:\n",
    "      counter += 1\n",
    "    # Else, decrement counter\n",
    "    else:\n",
    "      counter -= 1\n",
    "  \n",
    "  # Check if candidate is majority\n",
    "  count = 0\n",
    "  for element in arr:\n",
    "    if element == candidate:\n",
    "      count += 1\n",
    "  \n",
    "  # Return candidate if majority, else -1\n",
    "  if count > len(arr) // 2:\n",
    "    return candidate\n",
    "  else:\n",
    "    return -1\n",
    "\n",
    "\n",
    "\n",
    "\n"
   ]
  },
  {
   "cell_type": "code",
   "execution_count": 9,
   "id": "142cf65f-1c35-411a-8f29-38917c7ed586",
   "metadata": {},
   "outputs": [
    {
     "name": "stdout",
     "output_type": "stream",
     "text": [
      "The row with the maximum number of 0s is 3, with 5 0s.\n"
     ]
    }
   ],
   "source": [
    "#9 : Given n × n matrix, and in each row all 1’s are followed by 0’s. Find the row with the maximum number of 0’s.\n",
    "\n",
    "# define a function to find the row with the maximum number of 0s in a matrix\n",
    "def max_zero_row(matrix):\n",
    "  # initialize the variables for the row index and the max count of 0s\n",
    "  max_row = -1\n",
    "  max_count = 0\n",
    "  # get the number of rows and columns in the matrix\n",
    "  rows = len(matrix)\n",
    "  cols = len(matrix[0])\n",
    "  # start from the top-right corner of the matrix\n",
    "  i = 0\n",
    "  j = cols - 1\n",
    "  # loop until we reach the bottom-left corner of the matrix\n",
    "  while i < rows and j >= 0:\n",
    "    # if the current element is 0, move down and update the max row and count\n",
    "    if matrix[i][j] == 0:\n",
    "      max_row = i\n",
    "      max_count = cols - j\n",
    "      i += 1\n",
    "    # else, move left\n",
    "    else:\n",
    "      j -= 1\n",
    "  # return the max row index and the max count of 0s\n",
    "  return max_row, max_count\n",
    "\n",
    "# test the function with an example matrix\n",
    "matrix = [[0, 0, 0, 0, 1],\n",
    "          [0, 0, 0, 1, 1],\n",
    "          [0, 1, 1, 1, 1],\n",
    "          [0, 0, 0, 0, 0]]\n",
    "row, count = max_zero_row(matrix)\n",
    "print(f\"The row with the maximum number of 0s is {row}, with {count} 0s.\")\n",
    "\n"
   ]
  },
  {
   "cell_type": "code",
   "execution_count": 10,
   "id": "f78209fa-466e-4745-b109-56d5ccdca719",
   "metadata": {},
   "outputs": [
    {
     "name": "stdout",
     "output_type": "stream",
     "text": [
      "The sorted array is [0, 0, 0, 0, 0, 1, 1, 1, 1, 1, 2, 2].\n"
     ]
    }
   ],
   "source": [
    "#10 : Sort an array of 0’s, 1’s and 2’s [or R’s, G’s and B’s]: Given an array A[] consisting of 0’s, 1’s and 2’s, give an algorithm for sorting A[].The algorithm should put all 0’s first, then all 1’s and finally all 2’s at the end. Example Input = {0,1,1,0,1,2,1,2,0,0,0,1}, Output = {0,0,0,0,0,1,1,1,1,1,2,2}\n",
    "# define a function to sort an array of 0s, 1s and 2s\n",
    "def sort_array(arr):\n",
    "  # initialize the pointers for low, mid and high\n",
    "  low = 0\n",
    "  mid = 0\n",
    "  high = len(arr) - 1\n",
    "  # loop until mid is less than or equal to high\n",
    "  while mid <= high:\n",
    "    # if the element at mid is 0, swap it with the element at low\n",
    "    # and increment both low and mid\n",
    "    if arr[mid] == 0:\n",
    "      arr[low], arr[mid] = arr[mid], arr[low]\n",
    "      low += 1\n",
    "      mid += 1\n",
    "    # if the element at mid is 1, increment mid only\n",
    "    elif arr[mid] == 1:\n",
    "      mid += 1\n",
    "    # if the element at mid is 2, swap it with the element at high\n",
    "    # and decrement high only\n",
    "    else:\n",
    "      arr[mid], arr[high] = arr[high], arr[mid]\n",
    "      high -= 1\n",
    "  # return the sorted array\n",
    "  return arr\n",
    "\n",
    "# test the function with an example array\n",
    "arr = [0, 1, 1, 0, 1, 2, 1, 2, 0, 0, 0, 1]\n",
    "arr = sort_array(arr)\n",
    "print(f\"The sorted array is {arr}.\")\n",
    "\n",
    "\n",
    "\n"
   ]
  },
  {
   "cell_type": "code",
   "execution_count": 11,
   "id": "255efcb7-7c7e-40e1-8f15-a50979a6d6da",
   "metadata": {},
   "outputs": [],
   "source": [
    "### continue ###"
   ]
  },
  {
   "cell_type": "code",
   "execution_count": null,
   "id": "e7751230-34eb-434f-9683-cc84cf50be10",
   "metadata": {},
   "outputs": [],
   "source": []
  }
 ],
 "metadata": {
  "kernelspec": {
   "display_name": "Python 3 (ipykernel)",
   "language": "python",
   "name": "python3"
  },
  "language_info": {
   "codemirror_mode": {
    "name": "ipython",
    "version": 3
   },
   "file_extension": ".py",
   "mimetype": "text/x-python",
   "name": "python",
   "nbconvert_exporter": "python",
   "pygments_lexer": "ipython3",
   "version": "3.10.8"
  }
 },
 "nbformat": 4,
 "nbformat_minor": 5
}
